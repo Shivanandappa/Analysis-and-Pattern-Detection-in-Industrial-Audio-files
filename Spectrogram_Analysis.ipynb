{
 "cells": [
  {
   "cell_type": "code",
   "execution_count": null,
   "id": "199c570d",
   "metadata": {},
   "outputs": [],
   "source": [
    "import pandas as pd\n",
    "import numpy as np\n",
    "import matplotlib.pylab as plt\n",
    "import seaborn as sns\n",
    "\n",
    "import librosa\n",
    "import librosa.display\n",
    "import IPython.display as ipd\n",
    "\n",
    "from glob import glob\n",
    "import IPython\n",
    "\n",
    "from itertools import cycle\n",
    "\n",
    "sns.set_theme(style='white',palette = None)\n",
    "color_pal = plt.rcParams[\"axes.prop_cycle\"].by_key()[\"color\"]\n",
    "color_cycle = cycle(plt.rcParams[\"axes.prop_cycle\"].by_key()[\"color\"])"
   ]
  },
  {
   "cell_type": "code",
   "execution_count": null,
   "id": "581d9e2e",
   "metadata": {},
   "outputs": [],
   "source": [
    "audio_files=glob(\"/Users/jayanth/Downloads/Aalen/Industry/Spectogram/mit anderen Mitteln versuchen/30splits/05-06.wav\")"
   ]
  },
  {
   "cell_type": "code",
   "execution_count": null,
   "id": "3aa12029",
   "metadata": {},
   "outputs": [],
   "source": [
    "# play the audio file\n",
    "ipd.Audio('/Users/jayanth/Downloads/Aalen/Industry/Spectogram/mit anderen Mitteln versuchen/30splits/05-06.wav')"
   ]
  },
  {
   "cell_type": "code",
   "execution_count": null,
   "id": "74cd7626",
   "metadata": {},
   "outputs": [],
   "source": [
    "y, sr= librosa.load('/Users/jayanth/Downloads/Aalen/Industry/Spectogram/mit anderen Mitteln versuchen/30splits/05-06.wav')"
   ]
  },
  {
   "cell_type": "code",
   "execution_count": null,
   "id": "0bda38a9",
   "metadata": {},
   "outputs": [],
   "source": [
    " y"
   ]
  },
  {
   "cell_type": "code",
   "execution_count": null,
   "id": "85975493",
   "metadata": {},
   "outputs": [],
   "source": [
    "pd.Series(y)"
   ]
  },
  {
   "cell_type": "code",
   "execution_count": null,
   "id": "78780ca2",
   "metadata": {},
   "outputs": [],
   "source": [
    "pd.Series(y).plot(figsize=(10,5),\n",
    "                  lw=1,\n",
    "                  title = 'Raw drilling file',\n",
    "                  color = color_pal[0])\n",
    "plt.show()\n",
    "                 "
   ]
  },
  {
   "cell_type": "markdown",
   "id": "bc0a9ac6",
   "metadata": {},
   "source": [
    "## Spectrogram Analysis"
   ]
  },
  {
   "cell_type": "code",
   "execution_count": null,
   "id": "45aac3e0",
   "metadata": {},
   "outputs": [],
   "source": [
    "D = librosa.stft(y)\n",
    "sound_db = librosa.amplitude_to_db(np.abs(D),ref=np.max)"
   ]
  },
  {
   "cell_type": "code",
   "execution_count": null,
   "id": "ab384a05",
   "metadata": {},
   "outputs": [],
   "source": [
    "sound_db"
   ]
  },
  {
   "cell_type": "code",
   "execution_count": null,
   "id": "1efbbdf3",
   "metadata": {},
   "outputs": [],
   "source": [
    "sound_db.shape"
   ]
  },
  {
   "cell_type": "code",
   "execution_count": null,
   "id": "ee6b8c63",
   "metadata": {},
   "outputs": [],
   "source": [
    "#plot the transformed audio data\n",
    "\n",
    "fig, ax = plt.subplots(figsize=(10,5))\n",
    "img = librosa.display.specshow(sound_db,\n",
    "                              x_axis = 'time',\n",
    "                              y_axis = 'log',\n",
    "                              ax = ax)\n",
    "ax.set_title('Spectogram Analysis',fontsize = 20)\n",
    "fig.colorbar(img, ax = ax, format = f'%0.2f')\n",
    "plt.show()"
   ]
  },
  {
   "cell_type": "markdown",
   "id": "c05ad1f9",
   "metadata": {},
   "source": [
    "## Mel Spectogram"
   ]
  },
  {
   "cell_type": "code",
   "execution_count": null,
   "id": "f3753185",
   "metadata": {},
   "outputs": [],
   "source": [
    "Sound_db= librosa.feature.melspectrogram(y=y,\n",
    "                                               sr=sr,\n",
    "                                               n_mels =128*2)\n",
    "Sound_db_mel = librosa.amplitude_to_db(Sound_db, ref=np.max)"
   ]
  },
  {
   "cell_type": "code",
   "execution_count": null,
   "id": "8b85706a",
   "metadata": {},
   "outputs": [],
   "source": [
    "Sound_db_mel"
   ]
  },
  {
   "cell_type": "code",
   "execution_count": null,
   "id": "9a5f981d",
   "metadata": {},
   "outputs": [],
   "source": [
    "Sound_db_mel.shape"
   ]
  },
  {
   "cell_type": "code",
   "execution_count": null,
   "id": "21a86e3e",
   "metadata": {
    "scrolled": true
   },
   "outputs": [],
   "source": [
    "fig,ax = plt.subplots(figsize=(10,5))\n",
    "\n",
    "# plot the mel spectogram\n",
    "img = librosa.display.specshow(Sound_db_mel,\n",
    "                              x_axis='time',\n",
    "                              y_axis='log',\n",
    "                              ax=ax)\n",
    "ax.set_title('Mel_Spectogram_Example',fontsize=20)\n",
    "fig.colorbar(img,ax=ax,format=f'%0.2f')\n",
    "\n",
    "plt.show()"
   ]
  },
  {
   "cell_type": "code",
   "execution_count": null,
   "id": "ab7eb1bd",
   "metadata": {},
   "outputs": [],
   "source": []
  }
 ],
 "metadata": {
  "kernelspec": {
   "display_name": "Python 3 (ipykernel)",
   "language": "python",
   "name": "python3"
  },
  "language_info": {
   "codemirror_mode": {
    "name": "ipython",
    "version": 3
   },
   "file_extension": ".py",
   "mimetype": "text/x-python",
   "name": "python",
   "nbconvert_exporter": "python",
   "pygments_lexer": "ipython3",
   "version": "3.9.7"
  }
 },
 "nbformat": 4,
 "nbformat_minor": 5
}
